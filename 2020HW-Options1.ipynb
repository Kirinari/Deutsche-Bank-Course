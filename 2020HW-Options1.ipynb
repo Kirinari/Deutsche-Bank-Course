{
 "cells": [
  {
   "cell_type": "markdown",
   "metadata": {
    "collapsed": false
   },
   "source": [
    "В задачах 1 и 2 есть замечания по их расширению/уличшению решения. Эти требования дополнительные. Решение будет полностью защитано и если если задача без учета замечания полностью решена.  "
   ]
  },
  {
   "cell_type": "markdown",
   "metadata": {
    "collapsed": false
   },
   "source": [
    "# Задача 1"
   ]
  },
  {
   "cell_type": "markdown",
   "metadata": {
    "collapsed": false
   },
   "source": [
    "Напишите код, который используя метод Монте-Карло расчитывал бы цену опциона EKI/KO.\n",
    "\n",
    "EKI/KO опцион это Европейский опцион, для которого добавлено два барьера. Непрерывный барьер - действует точно так же как в KO опционе. EKI барьер действует только в момент экспирации опциона : для call опциона выплота происходит только если курс актива на момент экспирации больше уровня EKI, для опциона put выплата происходит только если курс ниже уровня EKI на момент экприрации.\n",
    "\n",
    "Сделайте расчет для опциона call с параметрами указанными ниже"
   ]
  },
  {
   "cell_type": "code",
   "execution_count": 1,
   "metadata": {
    "collapsed": false
   },
   "outputs": [
   ],
   "source": [
    "import numpy as np\n",
    "import math as m\n",
    "import scipy.linalg as linalg\n",
    "from scipy import stats\n",
    "from timeit import default_timer\n",
    "import matplotlib.pyplot as plt\n",
    "%matplotlib inline"
   ]
  },
  {
   "cell_type": "code",
   "execution_count": 2,
   "metadata": {
    "ExecuteTime": {
     "end_time": "2019-11-04T10:41:22.415083Z",
     "start_time": "2019-11-04T10:41:22.405162Z"
    },
    "collapsed": false
   },
   "outputs": [
    {
     "name": "stdout",
     "output_type": "stream",
     "text": [
      "2.265883180497493\n"
     ]
    }
   ],
   "source": [
    "S0 = 80.; K = 85.; T = 1.0; r = 0.05; q = 0.0; sigma = 0.2\n",
    "B = 110 # continues barrier level\n",
    "EKI = 90 # EKI level\n",
    "M = 360 # number of steps in time\n",
    "I = 50000 # number of paths to generate\n",
    "\n",
    "def ekp(S0, K, T, r, q, sigma, B, EKI, M, I):\n",
    "    S = np.zeros((M + 1, I))\n",
    "    S[0] = S0\n",
    "    dt = float(T) / M\n",
    "    for t in range(M):\n",
    "        z = np.random.standard_normal(I)\n",
    "        S_next = S[t] * np.exp((r - 0.5 * sigma ** 2) * dt + sigma * m.sqrt(dt) * z)\n",
    "        S_next[S_next >= B] = 0\n",
    "        S[t+1] = S_next\n",
    "\n",
    "    P = S[-1]\n",
    "    P[P <= EKI] = 0\n",
    "    return np.sum(m.exp(-r * T) * np.maximum(P - K, 0)/ I)\n",
    "C = ekp(S0, K, T, r, q, sigma, B, EKI, M, I)\n",
    "\n",
    "print (C)"
   ]
  },
  {
   "cell_type": "markdown",
   "metadata": {
    "collapsed": false
   },
   "source": [
    "**замечание**\n",
    "\n",
    "Код в задачах из лекции использует $O( M \\cdot I )$ памяти. Попробуйте сделать код, который использует $O( I )$ памяти."
   ]
  },
  {
   "cell_type": "markdown",
   "metadata": {
    "collapsed": false
   },
   "source": [
    "# Задача 2"
   ]
  },
  {
   "cell_type": "markdown",
   "metadata": {
    "collapsed": false
   },
   "source": [
    "Модифицируйте функцию, разобранную на лекции, для расчета цены опциона через решения уравнения в частных производных таким образом, что бы можно было задавать верхний и/или нижний барьер.\n",
    "\n",
    "Возвращаемые значения функции оставить как в примере на лекции.\n",
    "\n",
    "Сигнатура модифицированной функции и прамеры и примеры расчетов, которые нужно сделать:\n",
    "\n",
    "**замечание**\n",
    "\n",
    "Можно ли вычислить PV и Delta опциона в одной функции не увеличив существенно колличечество вычислений? Если получится, то сделайте функцию, которая возвращает не только цену опциона, но и его дельту. "
   ]
  },
  {
   "cell_type": "code",
   "execution_count": 44,
   "metadata": {
    "collapsed": false
   },
   "outputs": [
    {
     "name": "stdout",
     "output_type": "stream",
     "text": [
      "5.988102251122128\n"
     ]
    },
    {
     "name": "stdout",
     "output_type": "stream",
     "text": [
      "6.842603249468923\n"
     ]
    },
    {
     "name": "stdout",
     "output_type": "stream",
     "text": [
      "2.4034537076007103\n"
     ]
    },
    {
     "name": "stdout",
     "output_type": "stream",
     "text": [
      "6.834344285584502\n"
     ]
    },
    {
     "name": "stdout",
     "output_type": "stream",
     "text": [
      "5.494755289955412\n"
     ]
    },
    {
     "name": "stdout",
     "output_type": "stream",
     "text": [
      "0.8549778280470386\n"
     ]
    },
    {
     "name": "stdout",
     "output_type": "stream",
     "text": [
      "2.07771437384823\n"
     ]
    },
    {
     "name": "stdout",
     "output_type": "stream",
     "text": [
      "0.8481257843753452\n"
     ]
    }
   ],
   "source": [
    "def priceWithPDE1(S0, K, r, T, sigma, M, N, DB=None, UB=None, Smax=None, is_call=True):\n",
    "    M, N = int(M), int(N)\n",
    "    if Smax is None:\n",
    "        Smax = UB\n",
    "\n",
    "    dt = float(T) / N\n",
    "\n",
    "    if DB is None:\n",
    "        Smin = 0\n",
    "    else:\n",
    "        Smin = DB\n",
    "\n",
    "    dS = (Smax - Smin) / M\n",
    "    S = np.linspace(Smin, Smax, M+1)\n",
    "    k_values = S / dS\n",
    "    j_values = np.arange(N)\n",
    "    grid = np.zeros(shape=(M+1, N+1))\n",
    "\n",
    "    # setup boundary conditions\n",
    "    if is_call:\n",
    "        grid[:, -1] = np.maximum(S - K, 0)\n",
    "        if UB is None and DB is None:\n",
    "            grid[-1, :-1] = Smax - K* np.exp(-r*dt*(N-j_values))\n",
    "        if UB is None and DB is not None:\n",
    "            grid[0, :] = 0\n",
    "        if UB is not None and DB is None:\n",
    "            grid[-1, :] = 0\n",
    "        if UB is not None and DB is not None:\n",
    "            grid[-1, :] = 0\n",
    "            grid[0, :] = 0\n",
    "    else:\n",
    "        grid[:, -1] = np.maximum(K - S, 0)\n",
    "        if UB is None and DB is None:\n",
    "            grid[0, :-1] = K * np.exp(-r*dt*(N-j_values))\n",
    "        if UB is None and DB is not None:\n",
    "            grid[0, :] = 0\n",
    "        if UB is not None and DB is None:\n",
    "            grid[-1, :] = 0\n",
    "        if UB is not None and DB is not None:\n",
    "            grid[-1, :] = 0\n",
    "            grid[0, :] = 0\n",
    "\n",
    "    # calculate coefficients and matrix to solve\n",
    "    alpha = 0.25*dt*((sigma**2)*(k_values**2) -r*k_values)\n",
    "\n",
    "    beta = -dt*0.5*(\n",
    "        (sigma**2)*(k_values**2) + r)\n",
    "\n",
    "    gamma = 0.25*dt*((sigma**2)*(k_values**2) +r*k_values)\n",
    "\n",
    "\n",
    "    A1 = -np.diag(alpha[2:M], -1) + \\\n",
    "        np.diag(1-beta[1:M]) - np.diag(gamma[1:M-1], 1)\n",
    "\n",
    "    A2 = np.diag(alpha[2:M], -1) + \\\n",
    "        np.diag(1+beta[1:M]) + np.diag(gamma[1:M-1], 1)\n",
    "\n",
    "    # solve systems of linear equstions \n",
    "    for j in reversed(range(N)):\n",
    "        B = A2 @ grid[1:M, j+1]\n",
    "        B[0] += alpha[0]*(grid[0,j+1] + grid[0,j])\n",
    "        B[-1] += gamma[M-1]*(grid[-1,j+1] + grid[-1,j])\n",
    "        x2 = linalg.solve(A1, B)\n",
    "        grid[1:M, j] = x2\n",
    "\n",
    "    # use linear interpolation to get result value \n",
    "    pv_0 = np.interp(S0, S, grid[:, 0])\n",
    "\n",
    "    return pv_0, grid, S\n",
    "\n",
    "S0 = 80.; K = 85.; T = 1.0; r = 0.05; sigma = 0.2\n",
    "UB = 110\n",
    "DB = 70\n",
    "Smax = 160.\n",
    "M=360; N=100\n",
    "\n",
    "print( priceWithPDE1(S0=S0, K=K, r=r, T=T, sigma=sigma,M=M, N=N, Smax=Smax, is_call=True)[0] )\n",
    "print( priceWithPDE1(S0=S0, K=K, r=r, T=T, sigma=sigma,M=M, N=N, Smax=Smax, is_call=False)[0] )\n",
    "print( priceWithPDE1(S0=S0, K=K, r=r, T=T, sigma=sigma,M=M, N=N, UB=UB, is_call=True)[0] )\n",
    "print( priceWithPDE1(S0=S0, K=K, r=r, T=T, sigma=sigma,M=M, N=N, UB=UB, is_call=False)[0] )\n",
    "print( priceWithPDE1(S0=S0, K=K, r=r, T=T, sigma=sigma,M=M, N=N, DB=DB, Smax=Smax, is_call=True)[0] )\n",
    "print( priceWithPDE1(S0=S0, K=K, r=r, T=T, sigma=sigma,M=M, N=N, DB=DB, Smax=Smax, is_call=False)[0] )\n",
    "print( priceWithPDE1(S0=S0, K=K, r=r, T=T, sigma=sigma,M=M, N=N, DB=DB, UB=UB, is_call=True)[0] )\n",
    "print( priceWithPDE1(S0=S0, K=K, r=r, T=T, sigma=sigma,M=M, N=N, DB=DB, UB=UB, is_call=False)[0] )"
   ]
  },
  {
   "cell_type": "markdown",
   "metadata": {
    "collapsed": false
   },
   "source": [
    "# Задача 3"
   ]
  },
  {
   "cell_type": "markdown",
   "metadata": {
    "collapsed": false
   },
   "source": [
    "Рассмотрим такую стратегию динамического хеджирования: в начальный момент времени мы покупаем базовый актив, в колличестве равном дельте call опциона. \n",
    "Далее мы перебалансируем наш портфель с каким-то шагом по времени. На каждом шаге мы покупаем или продаем базовый актив из такого расчета, что бы у нас на балансе опять был базовый актив, в колличестве равном дельте call опциона, с учетом изменившегося курса актива.\n",
    "\n",
    "Используя симмуляции возможных реализаций процесса цены актива как в методе Монте-Карло сделайте код, который нарисует график для суммарной стоимости владания такой стратегией для некоторого кол-ва симмуляций.\n",
    "\n",
    "График должен представлят из себя диаграмму рассеяния (scatter plot) в координатах $x = S_T$, $y = Total Profit_T$\n",
    "\n",
    "\n",
    "Параметры для расчета:"
   ]
  },
  {
   "cell_type": "code",
   "execution_count": 7,
   "metadata": {
    "ExecuteTime": {
     "end_time": "2019-11-04T10:41:28.558142Z",
     "start_time": "2019-11-04T10:41:28.549708Z"
    },
    "collapsed": false
   },
   "outputs": [
   ],
   "source": [
    "S0 = 80.; K = 85.; T = 1.0; r = 0.05; q = 0.0; sigma = 0.2\n",
    "M = 360 # number of steps in time\n",
    "I = 1000 # number of paths to generate"
   ]
  },
  {
   "cell_type": "code",
   "execution_count": 42,
   "metadata": {
    "ExecuteTime": {
     "end_time": "2019-11-04T10:41:30.582729Z",
     "start_time": "2019-11-04T10:41:30.296537Z"
    },
    "collapsed": false
   },
   "outputs": [
   ],
   "source": [
    "# Значение spot на текущем шаге симуляции \n",
    "S = np.full(I, S0)\n",
    "# Значение payoff на текущем шаге симуляции \n",
    "P = np.zeros(I)\n",
    "\n",
    "def standard_normal(I):\n",
    "    z = np.random.standard_normal(I)\n",
    "    mean = np.mean(z)\n",
    "    std = np.std(z)\n",
    "    return (z - mean)/std    \n",
    "\n",
    "def N(x):\n",
    "    return stats.norm.cdf(x, 0.0, 1.0)\n",
    "\n",
    "def bsm_d1(S, K, T, r, sigma):\n",
    "    return (m.log(S / K) + (r + 0.5 * sigma**2) * T) / (sigma * m.sqrt(T))\n",
    "\n",
    "def bsm_call_delta(S, K, T, r, sigma):\n",
    "    d1 = bsm_d1(S, K, T, r, sigma)\n",
    "    return N(d1)\n",
    "\n",
    "delta = np.array([bsm_call_delta(S[i], K, T, r, sigma) for i in range (I)])\n",
    "\n",
    "P = -S * delta\n",
    "\n",
    "dt = float(T) / M\n",
    "for t in range(1, M + 1):\n",
    "    z = standard_normal(I)\n",
    "    S = S * np.exp((r - 0.5 * sigma**2) * dt + sigma * m.sqrt(dt) * z)\n",
    "    delta_ = delta[:]\n",
    "    delta = np.array([float(bsm_call_delta(S[i], K, T - dt * (t - 1), r, sigma)) for i in range(I)])\n",
    "    delta_ -= delta\n",
    "    P += S * delta_\n",
    "\n",
    "P += S * delta"
   ]
  },
  {
   "cell_type": "code",
   "execution_count": 43,
   "metadata": {
    "ExecuteTime": {
     "end_time": "2019-11-04T10:41:30.587193Z",
     "start_time": "2019-11-04T10:41:28.571Z"
    },
    "collapsed": false
   },
   "outputs": [
    {
     "data": {
      "text/plain": [
       "Text(0, 0.5, 'Total payoff')"
      ]
     },
     "execution_count": 43,
     "metadata": {
     },
     "output_type": "execute_result"
    },
    {
     "data": {
      "image/png": "[encoded data removed]",
      "text/plain": [
       "<Figure size 864x576 with 1 Axes>"
      ]
     },
     "execution_count": 43,
     "metadata": {
      "image/png": {
       "height": 503,
       "width": 758
      },
      "needs_background": "light"
     },
     "output_type": "execute_result"
    }
   ],
   "source": [
    "import matplotlib.pyplot as plt\n",
    "import matplotlib\n",
    "%matplotlib inline\n",
    "\n",
    "lw = 2.5 # line width\n",
    "fs = 12  # fontsize\n",
    "picWidth=12; picHeight=8;\n",
    "\n",
    "matplotlib.rcParams.update({'font.size': 22})\n",
    "plt.figure(figsize=(picWidth, picHeight))\n",
    "\n",
    "plt.plot(S, P, 'bo', linewidth=lw)\n",
    "plt.grid(True)\n",
    "plt.xlabel('Spot at expiry')\n",
    "plt.ylabel('Total payoff')"
   ]
  },
  {
   "cell_type": "markdown",
   "metadata": {
    "collapsed": false
   },
   "source": [
    "# Задача 4\n",
    "\n",
    "Straddle это структура из опциона call и опционна put, у которых равны страйки.\n",
    "\n",
    "Напишите код, который находит такой страйк для структуры straddle, при котором delta структуры равна нулю. (Delta neutral straddle).\n",
    "Для численного нахождения корней функции можно использовать любой метод из стантартных библиотек, например\n",
    "https://docs.scipy.org/doc/scipy/reference/generated/scipy.optimize.brentq.html\n",
    "\n",
    "Параметры для расчета:"
   ]
  },
  {
   "cell_type": "code",
   "execution_count": 59,
   "metadata": {
    "ExecuteTime": {
     "end_time": "2019-11-04T10:41:22.437404Z",
     "start_time": "2019-11-04T10:41:22.419050Z"
    },
    "collapsed": false
   },
   "outputs": [
   ],
   "source": [
    "S0 = 80.; K = 85.; T = 1.0; r = 0.05; q = 0.01; sigma = 0.2\n",
    "from scipy.optimize import brentq"
   ]
  },
  {
   "cell_type": "code",
   "execution_count": 67,
   "metadata": {
    "collapsed": false
   },
   "outputs": [
    {
     "name": "stdout",
     "output_type": "stream",
     "text": [
      "84.94692372362877\n"
     ]
    }
   ],
   "source": [
    "def N(x):\n",
    "    return stats.norm.cdf(x, 0.0, 1.0)\n",
    "\n",
    "def bsm_d1(S0, K, T, r, q, sigma):\n",
    "    return (np.log(S0 / K) + (r - q + 0.5 * sigma ** 2) * T) / (sigma * m.sqrt(T))\n",
    "\n",
    "def bsm_delta(is_call, S0, K, T, r, q, sigma):\n",
    "    d1 = bsm_d1(S0, K, T, r, q, sigma)\n",
    "    if is_call:\n",
    "        z = 1.0\n",
    "    else:\n",
    "        z = -1.0\n",
    "    return z * N(z * d1) * m.exp(-q * T)\n",
    "\n",
    "def delta(S0, K, T, r, q, sigma):\n",
    "    return bsm_delta(False, S0, K, T, r, q, sigma)+bsm_delta(True, S0, K, T, r, q, sigma)\n",
    "\n",
    "K0 = brentq(lambda x: delta(S0, x, T, r, q, sigma), 50, 150)\n",
    "print (K0)"
   ]
  }
 ],
 "metadata": {
  "hide_input": false,
  "kernelspec": {
   "display_name": "Python 3 (system-wide)",
   "language": "python",
   "metadata": {
    "cocalc": {
     "description": "Python 3 programming language",
     "priority": 100,
     "url": "https://www.python.org/"
    }
   },
   "name": "python3"
  },
  "language_info": {
   "codemirror_mode": {
    "name": "ipython",
    "version": 3
   },
   "file_extension": ".py",
   "mimetype": "text/x-python",
   "name": "python",
   "nbconvert_exporter": "python",
   "pygments_lexer": "ipython3",
   "version": "3.6.9"
  },
  "toc": {
   "base_numbering": 1,
   "nav_menu": {
   },
   "number_sections": true,
   "sideBar": true,
   "skip_h1_title": false,
   "title_cell": "Table of Contents",
   "title_sidebar": "Contents",
   "toc_cell": false,
   "toc_position": {
    "height": "calc(100% - 180px)",
    "left": "10px",
    "top": "150px",
    "width": "204px"
   },
   "toc_section_display": true,
   "toc_window_display": true
  }
 },
 "nbformat": 4,
 "nbformat_minor": 4
}