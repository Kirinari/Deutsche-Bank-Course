{
 "cells": [
  {
   "cell_type": "markdown",
   "metadata": {
    "collapsed": false
   },
   "source": [
    "# Задача 1"
   ]
  },
  {
   "cell_type": "markdown",
   "metadata": {
    "collapsed": false
   },
   "source": [
    "Реализовать функции для расчета цены Европейкого или Американкого опциона используя биномиальную модель."
   ]
  },
  {
   "cell_type": "code",
   "execution_count": 20,
   "metadata": {
    "ExecuteTime": {
     "end_time": "2020-04-12T09:36:43.367670Z",
     "start_time": "2020-04-12T09:36:43.348821Z"
    },
    "collapsed": false
   },
   "outputs": [
   ],
   "source": [
    "def gen_lattice(S0, u, d, N):\n",
    "    \"\"\"generates a binomial lattice\n",
    "    \n",
    "    for a given up, down, start value and number of steps (N).\n",
    "    Resulting lattice has N+1 levels.\n",
    "    \"\"\"\n",
    "    S = [float(S0)]\n",
    "\n",
    "    for i in range(1, N+1):\n",
    "        for j in range(0, i+1):\n",
    "            S.append( S0 * d**j * u**(i-j) )\n",
    "\n",
    "    return S\n",
    "\n",
    "def lattice_levels(S):\n",
    "    return int( round( (m.sqrt(8*len(S)+1)-1)/2 ) )"
   ]
  },
  {
   "cell_type": "code",
   "execution_count": 21,
   "metadata": {
    "ExecuteTime": {
     "end_time": "2020-04-12T09:36:44.538418Z",
     "start_time": "2020-04-12T09:36:44.520066Z"
    },
    "collapsed": false
   },
   "outputs": [
    {
     "name": "stdout",
     "output_type": "stream",
     "text": [
      "3.6.9 (default, Nov  7 2019, 10:44:02) \n",
      "[GCC 8.3.0]\n"
     ]
    }
   ],
   "source": [
    "import sys\n",
    "print (sys.version)\n",
    "#if sys.version_info >= (3,4):\n",
    "#    print( \"with enums\" )\n",
    "\n",
    "from enum import Enum\n",
    "class CallPut(Enum):\n",
    "    call = 1\n",
    "    put = 2\n",
    "\n",
    "class ExerciseStyle(Enum):\n",
    "    euro = 1\n",
    "    amer = 2"
   ]
  },
  {
   "cell_type": "code",
   "execution_count": 22,
   "metadata": {
    "ExecuteTime": {
     "end_time": "2020-04-12T09:36:47.068685Z",
     "start_time": "2020-04-12T09:36:45.248859Z"
    },
    "collapsed": false
   },
   "outputs": [
    {
     "name": "stdout",
     "output_type": "stream",
     "text": [
      "10.448584103764572\n"
     ]
    },
    {
     "name": "stdout",
     "output_type": "stream",
     "text": [
      "5.571526553833685\n"
     ]
    },
    {
     "name": "stdout",
     "output_type": "stream",
     "text": [
      "10.448584103764572\n"
     ]
    },
    {
     "name": "stdout",
     "output_type": "stream",
     "text": [
      "6.089290810825668\n"
     ]
    }
   ],
   "source": [
    "def pv_crr(amerEuro, callPut, S0, K, T, r, sigma, N):\n",
    "    import math as m\n",
    "    dt = T / N\n",
    "    df = m.exp(-r * dt)\n",
    "\n",
    "    u = m.exp(sigma * m.sqrt(dt))\n",
    "    d = 1 / u\n",
    "    p = ( m.exp(r * dt) - d ) / (u - d)\n",
    "\n",
    "    S = gen_lattice(S0=S0, N=N, u=u, d=d)\n",
    "    L = N+1 #lattice_levels(S)\n",
    "\n",
    "    payoff = lambda x: max( 0, x - K ) if CallPut.call == callPut else max( 0, K - x)\n",
    "\n",
    "    c = len(S)\n",
    "    for i in range(L):\n",
    "        c -= 1\n",
    "        S[c] = payoff(S[c])\n",
    "\n",
    "\n",
    "    for i in range(N-1, -1, -1):\n",
    "        for j in range(i, -1, -1):\n",
    "            c -= 1\n",
    "            if (ExerciseStyle.euro == amerEuro):\n",
    "                S[c] = (S[c + i + 1] * p + S[c + i + 2] * (1 - p)) * df\n",
    "            else:\n",
    "                S[c] = max(payoff(S[c]), S[c + i + 1] * p + S[c + i + 2] * (1 - p)) * df\n",
    "\n",
    "    return S[0], S\n",
    "\n",
    "\n",
    "# parameters\n",
    "S0 = 100.\n",
    "T = 1.\n",
    "r = 0.05\n",
    "sigma = 0.20\n",
    "K = 100.\n",
    "N = 1000\n",
    "\n",
    "es = ExerciseStyle.euro\n",
    "pvC, _ = pv_crr(es, CallPut.call, S0=S0, K=K, T=T, r=r, sigma=sigma, N=N)\n",
    "print( pvC )\n",
    "pvP, _ = pv_crr(es, CallPut.put, S0=S0, K=K, T=T, r=r, sigma=sigma, N=N)\n",
    "print( pvP )\n",
    "\n",
    "es = ExerciseStyle.amer\n",
    "pvC, _ = pv_crr(es, CallPut.call, S0=S0, K=K, T=T, r=r, sigma=sigma, N=N)\n",
    "print( pvC )\n",
    "pvP, _ = pv_crr(es, CallPut.put, S0=S0, K=K, T=T, r=r, sigma=sigma, N=N)\n",
    "print( pvP )"
   ]
  },
  {
   "cell_type": "markdown",
   "metadata": {
    "collapsed": false
   },
   "source": [
    "# Задача 2"
   ]
  },
  {
   "cell_type": "markdown",
   "metadata": {
    "collapsed": false
   },
   "source": [
    "Напишите код для расчета цены европейского и барьерного опционов для модели Хестона\n",
    "\n",
    "Сделайте расчет\n",
    "\n",
    "    * implied волотильности для европейского опциона\n",
    "    * цены барьерного опциона knock-out \n",
    "    "
   ]
  },
  {
   "cell_type": "code",
   "execution_count": 3,
   "metadata": {
    "ExecuteTime": {
     "end_time": "2020-04-12T09:37:01.083521Z",
     "start_time": "2020-04-12T09:37:01.072114Z"
    },
    "collapsed": false
   },
   "outputs": [
   ],
   "source": [
    "# Параметры оционов\n",
    "S0 = 80.; K = 85.; T = 1.0\n",
    "B=110\n",
    "#\n",
    "r = 0.05\n",
    "# Параметры модели\n",
    "sigma0 = 0.2  # значение волатальности в начальный момент времени\n",
    "long_term_variance = 0.25  # долгосрочный средний уровень дисперсии\n",
    "mean_revertion_rate = 0.02 # скорость возврата к среднему\n",
    "vol_of_vol=0.05  # волатильность волатильности\n",
    "corr=0.07 # корреляция случайных факторов в модели"
   ]
  },
  {
   "cell_type": "markdown",
   "metadata": {
    "collapsed": false
   },
   "source": [
    "Модель задается уравнениями:\n",
    "\n",
    "$$ dS_t = \\mu S_t\\,dt + \\sqrt{\\nu_t} S_t\\,dW_1 \\,$$\n",
    "\n",
    "$$ d\\nu_t = \\theta(\\omega - \\nu_t)dt + \\xi \\sqrt{\\nu_t}\\,dW_2$$\n",
    "\n",
    "где:\n",
    "\n",
    "   * $\\omega$ - долгосрочный средний уровень (long-term mean) \n",
    "   * $\\theta$ - скорость возврата к среднему \n",
    "   * $\\xi$ - волатильность волатильности\n",
    "   * $W_1 \\,$ и $W_2 \\,$ винеровские процессы, с корреляцией $\\rho \\,$.\n",
    "\n",
    "$$ \\left< dW_1\\, dW_2 \\right> = \\rho dt $$\n",
    "\n",
    "Есть разные схемы дискретизации для процесса $\\nu$ в модели Хестона.\n",
    "\n",
    "Для процесса $\\nu$ в модели Хестона будем использовать такой вариант схемы дискретизации:\n",
    "\n",
    "$$ \\nu_{t+dt} = \\left( \\sqrt{\\nu_t} + \\frac{1}{2}\\xi\\sqrt{dt}z_2 \\right)^2 + \\theta (\\omega - \\nu_t) dt - \\frac{1}{4}\\xi^2 dt $$\n",
    "\n",
    "где $z_2$ случайная величена распределенная по нормальному закону (соответствует процессу $W_2$ )\n",
    "\n",
    "См. Rouah F D. Euler and Milstein discretization.  http://www.frouah.com/finance%20notes/Euler%20and%20Milstein%20Discretization.pdf\n",
    " раздел \"2 Milstein Scheme\"\n",
    "\n",
    "\n",
    "Обратите внимание, что для генерации двух процессов нужно сгенерировать две случайные величены $z_1$ и $z_2$, которые бы были скорелированны с коэффицентом $\\rho$"
   ]
  },
  {
   "cell_type": "code",
   "execution_count": 4,
   "metadata": {
    "collapsed": false
   },
   "outputs": [
   ],
   "source": [
    "import numpy as np\n",
    "import math as m\n",
    "import matplotlib.pyplot as plt"
   ]
  },
  {
   "cell_type": "code",
   "execution_count": 5,
   "metadata": {
    "collapsed": false,
    "scrolled": true
   },
   "outputs": [
   ],
   "source": [
    "N = 360\n",
    "M = 50000\n",
    "S = np.zeros((M, N))\n",
    "v = np.zeros((M, N))\n",
    "\n",
    "for j in range(M):\n",
    "    z1 = np.random.standard_normal(N)\n",
    "    z2 = np.random.standard_normal(N)\n",
    "\n",
    "\n",
    "    zv = z1\n",
    "    zs = corr * z1 + (1 - corr ** 2) ** (1 / 2) *z2\n",
    "\n",
    "    dt = T / N\n",
    "    S[j][0] = S0\n",
    "    v[j][0] = sigma0\n",
    "    for i in range (N-1):\n",
    "        v[j][i + 1] = (v[j][i]**(1/2) + (1/2)*vol_of_vol*dt**(1/2)*zv[i])**2 + mean_revertion_rate*(long_term_variance - v[j][i])*dt -         (1/4)*vol_of_vol**2 * dt\n",
    "        S[j][i + 1] = S[j][i] * m.exp((r - (1/2)*v[j][i])*dt + (v[j][i]*dt)**(1/2) * zs[i])"
   ]
  },
  {
   "cell_type": "code",
   "execution_count": 6,
   "metadata": {
    "collapsed": false
   },
   "outputs": [
   ],
   "source": [
    "SB = S[np.all(S < B, axis = 1)]"
   ]
  },
  {
   "cell_type": "code",
   "execution_count": 7,
   "metadata": {
    "collapsed": false
   },
   "outputs": [
   ],
   "source": [
    "P = S[:, -1]\n",
    "PB = SB[:, -1]\n",
    "R = np.sum(v[:, -1]) / M\n",
    "C = np.sum(m.exp(-r * T) * np.maximum(P - K, 0)) / M\n",
    "CB = np.sum(m.exp(-r * T) * np.maximum(PB - K, 0)) / M"
   ]
  },
  {
   "cell_type": "code",
   "execution_count": 8,
   "metadata": {
    "collapsed": false,
    "scrolled": true
   },
   "outputs": [
    {
     "name": "stdout",
     "output_type": "stream",
     "text": [
      "Implied vol  0.200993297288509\n",
      "Cost without border  13.728494072094318\n",
      "Cost with border  0.5699215045162881\n"
     ]
    }
   ],
   "source": [
    "print('Implied vol ', R)\n",
    "print(\"Cost without border \", C)\n",
    "print(\"Cost with border \",CB)"
   ]
  },
  {
   "cell_type": "code",
   "execution_count": 0,
   "metadata": {
    "collapsed": false
   },
   "outputs": [
   ],
   "source": [
   ]
  }
 ],
 "metadata": {
  "hide_input": false,
  "kernelspec": {
   "display_name": "Python 3 (system-wide)",
   "language": "python",
   "metadata": {
    "cocalc": {
     "description": "Python 3 programming language",
     "priority": 100,
     "url": "https://www.python.org/"
    }
   },
   "name": "python3"
  },
  "language_info": {
   "codemirror_mode": {
    "name": "ipython",
    "version": 3
   },
   "file_extension": ".py",
   "mimetype": "text/x-python",
   "name": "python",
   "nbconvert_exporter": "python",
   "pygments_lexer": "ipython3",
   "version": "3.6.9"
  },
  "toc": {
   "nav_menu": {
   },
   "number_sections": true,
   "sideBar": true,
   "skip_h1_title": false,
   "title_cell": "Table of Contents",
   "title_sidebar": "Contents",
   "toc_cell": false,
   "toc_position": {
    "height": "calc(100% - 180px)",
    "left": "10px",
    "top": "150px",
    "width": "165px"
   },
   "toc_section_display": true,
   "toc_window_display": true
  }
 },
 "nbformat": 4,
 "nbformat_minor": 4
}